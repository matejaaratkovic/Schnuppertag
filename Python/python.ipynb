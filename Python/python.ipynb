{
 "cells": [
  {
   "cell_type": "markdown",
   "id": "544e4154-6ea8-44fa-8886-9e9bea087b66",
   "metadata": {},
   "source": [
    "# Einführung in Python\n",
    "\n",
    "Willkommen bei der Einführung in Python! Python ist eine leicht zu erlernende Programmiersprache mit einer aktiven Community und vielen verfügbaren Bibliotheken. In dieser Einführung werden wir einige grundlegende Konzepte in Python kennenlernen.\n",
    "\n",
    "## Variablen\n",
    "\n",
    "Eine der grundlegenden Konzepte in jeder Programmiersprache sind Variablen. Variablen sind Namen, die mit einem bestimmten Wert verknüpft sind. Hier ist ein Beispiel:\n"
   ]
  },
  {
   "cell_type": "code",
   "execution_count": 11,
   "id": "6a2c8f20-ed93-4509-b711-85aeb6e8c23b",
   "metadata": {},
   "outputs": [
    {
     "name": "stdout",
     "output_type": "stream",
     "text": [
      " Mateja Ratkovic\n"
     ]
    }
   ],
   "source": [
    "name = \"Mateja Ratkovic\"\n",
    "print(\"\", name)"
   ]
  },
  {
   "cell_type": "markdown",
   "id": "3932aa3f-0377-40b6-8da9-6c089f5ee7cd",
   "metadata": {},
   "source": [
    "# Datentypen\n",
    "\n",
    "In Python gibt es verschiedene Datentypen, die verwendet werden können, um verschiedene\n",
    "Arten von Daten zu speichern. Hier sind einige der häufigsten Datentypen:\n",
    "\n",
    "• `int`: Integer-Datentyp, verwendet für ganze Zahlen (z. B. 42)  \n",
    "• `float`(Fliesskommazahl): FließkommazahI-Datentyp, verwendet für reelle Zahlen (z. B. 3.14)  \n",
    "• `str`(String): Zeichenketten-Datentyp, verwendet für Texte (z. B. \"Hello, World!\")  \n",
    "• `bool`(Boolean): Boolescher Datentyp, verwendet für Wahrheitswerte (True oder False)\n",
    "\n",
    "Sie können eine Variable zuweisen und ihren Datentyp überprüfen, indem Sie\n",
    "`type()` verwenden:"
   ]
  },
  {
   "cell_type": "code",
   "execution_count": 21,
   "id": "f55a001c-0fa7-4fac-80ef-bfcccf84f884",
   "metadata": {},
   "outputs": [
    {
     "name": "stdout",
     "output_type": "stream",
     "text": [
      "<class 'int'>\n",
      "<class 'float'>\n",
      "<class 'str'>\n",
      "<class 'bool'>\n"
     ]
    }
   ],
   "source": [
    "i = 42\n",
    "print(type(i)) # <class 'int'>\n",
    "\n",
    "b = 3.14\n",
    "print(type(b)) # <class 'float'>\n",
    "\n",
    "d = \"Hello, World!\"\n",
    "print(type(d)) # <class 'str'>\n",
    "\n",
    "d = True\n",
    "print(type(d)) # <class 'bool'>"
   ]
  },
  {
   "cell_type": "markdown",
   "id": "1dba715f-77aa-428d-bc83-4c51d38f0ada",
   "metadata": {},
   "source": [
    "# Operatoren\n",
    "\n",
    "In Python gibt es verschiedene Arten von Operatoren, die Sie verwenden können, um mathematische und logische Operationen auszuführen. Hier sind einige der häufigsten Operatoren:\n",
    "\n",
    "`+`: Addition  \n",
    "`-`: Subtraktion  \n",
    "`*`: Multiplikation  \n",
    "`/`: Division  \n",
    "`%`: Modulo (Rest einer Division)  \n",
    "`==`: Vergleich auf Gleichheit  \n",
    "`!=`: Vergleich auf Ungleichheit  \n",
    "`<`: Kleiner als  \n",
    "`>`: Größer als  \n",
    "`<=`: Kleiner oder gleich  \n",
    "`>=`: Größer oder gleich  \n",
    "\n",
    "Sie können die Operatoren wie folgt verwenden:"
   ]
  },
  {
   "cell_type": "code",
   "execution_count": 24,
   "id": "e0b5c9dc-2212-4195-b5fd-63cf956db52e",
   "metadata": {},
   "outputs": [
    {
     "name": "stdout",
     "output_type": "stream",
     "text": [
      "a + b = 30\n",
      "a - b = 10\n",
      "a * b = 200\n",
      "b / a = 2.0\n",
      "b % a = 0\n",
      "a == b is False\n",
      "a != b is True\n",
      "a < b is True\n"
     ]
    }
   ],
   "source": [
    "a = 10\n",
    "b = 20\n",
    "\n",
    "# Addition\n",
    "c = a + b\n",
    "print(\"a + b =\", c)\n",
    "\n",
    "# Subtraktion\n",
    "c = b - a\n",
    "print(\"a - b =\", c)\n",
    "\n",
    "# Multiplikation\n",
    "c = a * b\n",
    "print(\"a * b =\", c)\n",
    "\n",
    "# Division\n",
    "c = b / a\n",
    "print(\"b / a =\", c)\n",
    "\n",
    "# Modulo\n",
    "c = b % a\n",
    "print(\"b % a =\", c)\n",
    "\n",
    "# Vergleich auf Gleichheit\n",
    "c = a == b\n",
    "print(\"a == b is\", c)\n",
    "\n",
    "# Vergleich auf Ungleichheit\n",
    "c = a != b\n",
    "print(\"a != b is\", c)\n",
    "\n",
    "# Kleiner als\n",
    "c = a < b\n",
    "print(\"a < b is\",c)\n"
   ]
  },
  {
   "cell_type": "markdown",
   "id": "f1536cb3-6edc-4a7a-abd9-19833dc4101e",
   "metadata": {},
   "source": [
    "# Eingabe mit `input`\n",
    "\n",
    "Mit `input` können Sie Benutzereingaben erfassen:"
   ]
  },
  {
   "cell_type": "code",
   "execution_count": 5,
   "id": "5cb70ced-c784-4ff8-b31b-0390952319fa",
   "metadata": {},
   "outputs": [
    {
     "name": "stdout",
     "output_type": "stream",
     "text": [
      "Hello, mateja!\n"
     ]
    }
   ],
   "source": [
    "name = input(\"What's your name? \")\n",
    "print(\"Hello, \" + name + \"!\")\n"
   ]
  },
  {
   "cell_type": "markdown",
   "id": "8c132b62-be0a-43d5-b591-03369e47a2a3",
   "metadata": {},
   "source": [
    "# Bedingungen\n",
    "\n",
    "Mit Bedingungen können Sie bestimmen, ob bestimmte Aktionen ausgeführt werden sollen, je nachdem, ob bestimmte Bedingungen erfüllt sind:"
   ]
  },
  {
   "cell_type": "code",
   "execution_count": 13,
   "id": "fb2732d5-6eb1-4e3d-bc50-356fa033b361",
   "metadata": {},
   "outputs": [
    {
     "name": "stdout",
     "output_type": "stream",
     "text": [
      "x gleich 10\n"
     ]
    }
   ],
   "source": [
    "x = 10\n",
    "\n",
    "if x == 10:\n",
    "  print(\"x gleich 10\")\n",
    "else:\n",
    "  print(\"x ungleich 10\")\n"
   ]
  },
  {
   "cell_type": "markdown",
   "id": "48a8d1e3-e70d-4037-a3ab-594ebc61f24f",
   "metadata": {},
   "source": [
    "# Schleifen in Python\n",
    "\n",
    "\n",
    "In Python gibt es zwei Hauptarten von Schleifen: `for`-Schleifen und `while`-Schleifen.\n",
    "## For-Schleifen\n",
    "\n",
    "`For`-Schleifen\n",
    "For-Schleifen werden verwendet, um eine Sequenz von Werten zu iterieren, wie z.B. eine Liste oder einen String. Hier ist ein Beispiel, wie man eine Liste von Zahlen verwendet, um deren Quadrate zu berechnen:"
   ]
  },
  {
   "cell_type": "code",
   "execution_count": 12,
   "id": "e667a42f-f2fe-4a00-80ff-4be5c9a6746b",
   "metadata": {},
   "outputs": [
    {
     "name": "stdout",
     "output_type": "stream",
     "text": [
      "1 squared is 1\n",
      "2 squared is 4\n",
      "3 squared is 9\n",
      "4 squared is 16\n",
      "5 squared is 25\n"
     ]
    }
   ],
   "source": [
    "numbers = [1, 2, 3, 4, 5]\n",
    "\n",
    "for number in numbers:\n",
    "    square = number**2\n",
    "\n",
    "    # convert ints to strings\n",
    "    square = str(square)\n",
    "    number = str(number)\n",
    "    \n",
    "    print(number + \" squared is \" + square)\n"
   ]
  },
  {
   "cell_type": "markdown",
   "id": "8a64ec94-cbe3-4fa5-9ce1-5a67fec686ab",
   "metadata": {},
   "source": [
    "In diesem Beispiel wird eine Liste von Zahlen definiert und in jedem Durchlauf der Schleife wird das aktuelle `number` quadriert und das Ergebnis mit einer `print`-Anweisung ausgegeben."
   ]
  },
  {
   "cell_type": "markdown",
   "id": "83f628c0-54a9-4ca6-9d61-67abb5257fbb",
   "metadata": {},
   "source": [
    "## While-Schleifen\n",
    "`While`-Schleifen werden verwendet, um eine bestimmte Bedingung zu erfüllen, solange sie wahr ist. Hier ist ein Beispiel, wie man eine Schleife verwendet, um eine Zählervariable zu erhöhen, bis sie 5 erreicht hat:"
   ]
  },
  {
   "cell_type": "code",
   "execution_count": 16,
   "id": "c6ad222e-eb41-424a-a375-9009909c25d8",
   "metadata": {},
   "outputs": [
    {
     "name": "stdout",
     "output_type": "stream",
     "text": [
      "-3000\n",
      "-2983\n",
      "-2966\n",
      "-2949\n",
      "-2932\n",
      "-2915\n",
      "-2898\n",
      "-2881\n",
      "-2864\n",
      "-2847\n",
      "-2830\n",
      "-2813\n",
      "-2796\n",
      "-2779\n",
      "-2762\n",
      "-2745\n",
      "-2728\n",
      "-2711\n",
      "-2694\n",
      "-2677\n",
      "-2660\n",
      "-2643\n",
      "-2626\n",
      "-2609\n",
      "-2592\n",
      "-2575\n",
      "-2558\n",
      "-2541\n",
      "-2524\n",
      "-2507\n",
      "-2490\n",
      "-2473\n",
      "-2456\n",
      "-2439\n",
      "-2422\n",
      "-2405\n",
      "-2388\n",
      "-2371\n",
      "-2354\n",
      "-2337\n",
      "-2320\n",
      "-2303\n",
      "-2286\n",
      "-2269\n",
      "-2252\n",
      "-2235\n",
      "-2218\n",
      "-2201\n",
      "-2184\n",
      "-2167\n",
      "-2150\n",
      "-2133\n",
      "-2116\n",
      "-2099\n",
      "-2082\n",
      "-2065\n",
      "-2048\n",
      "-2031\n",
      "-2014\n",
      "-1997\n",
      "-1980\n",
      "-1963\n",
      "-1946\n",
      "-1929\n",
      "-1912\n",
      "-1895\n",
      "-1878\n",
      "-1861\n",
      "-1844\n",
      "-1827\n",
      "-1810\n",
      "-1793\n",
      "-1776\n",
      "-1759\n",
      "-1742\n",
      "-1725\n",
      "-1708\n",
      "-1691\n",
      "-1674\n",
      "-1657\n",
      "-1640\n",
      "-1623\n",
      "-1606\n",
      "-1589\n",
      "-1572\n",
      "-1555\n",
      "-1538\n",
      "-1521\n",
      "-1504\n",
      "-1487\n",
      "-1470\n",
      "-1453\n",
      "-1436\n",
      "-1419\n",
      "-1402\n",
      "-1385\n",
      "-1368\n",
      "-1351\n",
      "-1334\n",
      "-1317\n",
      "-1300\n",
      "-1283\n",
      "-1266\n",
      "-1249\n",
      "-1232\n",
      "-1215\n",
      "-1198\n",
      "-1181\n",
      "-1164\n",
      "-1147\n",
      "-1130\n",
      "-1113\n",
      "-1096\n",
      "-1079\n",
      "-1062\n",
      "-1045\n",
      "-1028\n",
      "-1011\n",
      "-994\n",
      "-977\n",
      "-960\n",
      "-943\n",
      "-926\n",
      "-909\n",
      "-892\n",
      "-875\n",
      "-858\n",
      "-841\n",
      "-824\n",
      "-807\n",
      "-790\n",
      "-773\n",
      "-756\n",
      "-739\n",
      "-722\n",
      "-705\n",
      "-688\n",
      "-671\n",
      "-654\n",
      "-637\n",
      "-620\n",
      "-603\n",
      "-586\n",
      "-569\n",
      "-552\n",
      "-535\n",
      "-518\n",
      "-501\n",
      "-484\n",
      "-467\n",
      "-450\n",
      "-433\n",
      "-416\n",
      "-399\n",
      "-382\n",
      "-365\n",
      "-348\n",
      "-331\n",
      "-314\n",
      "-297\n",
      "-280\n",
      "-263\n",
      "-246\n",
      "-229\n",
      "-212\n",
      "-195\n",
      "-178\n",
      "-161\n",
      "-144\n",
      "-127\n",
      "-110\n",
      "-93\n",
      "-76\n",
      "-59\n",
      "-42\n",
      "-25\n",
      "-8\n",
      "9\n",
      "26\n",
      "43\n",
      "60\n",
      "77\n",
      "94\n",
      "111\n",
      "128\n",
      "145\n",
      "162\n",
      "179\n",
      "196\n",
      "213\n",
      "230\n",
      "247\n",
      "264\n",
      "281\n",
      "298\n",
      "315\n",
      "332\n",
      "349\n",
      "366\n",
      "383\n",
      "400\n",
      "417\n",
      "434\n",
      "451\n",
      "468\n",
      "485\n",
      "502\n",
      "519\n",
      "536\n",
      "553\n",
      "570\n",
      "587\n",
      "604\n",
      "621\n",
      "638\n",
      "655\n",
      "672\n",
      "689\n",
      "706\n",
      "723\n",
      "740\n",
      "757\n",
      "774\n",
      "791\n",
      "808\n",
      "825\n",
      "842\n",
      "859\n",
      "876\n",
      "893\n",
      "910\n",
      "927\n",
      "944\n",
      "961\n",
      "978\n",
      "995\n",
      "1012\n",
      "1029\n",
      "1046\n",
      "1063\n",
      "1080\n",
      "1097\n",
      "1114\n",
      "1131\n",
      "1148\n",
      "1165\n",
      "1182\n",
      "1199\n",
      "1216\n",
      "1233\n",
      "1250\n",
      "1267\n",
      "1284\n",
      "1301\n",
      "1318\n",
      "1335\n",
      "1352\n",
      "1369\n",
      "1386\n",
      "1403\n",
      "1420\n",
      "1437\n",
      "1454\n",
      "1471\n",
      "1488\n",
      "1505\n",
      "1522\n",
      "1539\n",
      "1556\n",
      "1573\n",
      "1590\n",
      "1607\n",
      "1624\n",
      "1641\n",
      "1658\n",
      "1675\n",
      "1692\n",
      "1709\n",
      "1726\n",
      "1743\n",
      "1760\n",
      "1777\n",
      "1794\n",
      "1811\n",
      "1828\n",
      "1845\n",
      "1862\n",
      "1879\n",
      "1896\n",
      "1913\n",
      "1930\n",
      "1947\n",
      "1964\n",
      "1981\n",
      "1998\n"
     ]
    }
   ],
   "source": [
    "counter = -3000\n",
    "\n",
    "while counter <= 2000:\n",
    "    print(counter)\n",
    "    counter += 17\n"
   ]
  },
  {
   "cell_type": "markdown",
   "id": "6de08cd4-6ee0-4a57-9d87-17b74816d878",
   "metadata": {},
   "source": [
    "In diesem Beispiel wird eine Zählervariable definiert und in jedem Durchlauf der Schleife wird sie um 1 erhöht. Die Schleife wird fortgesetzt, solange die Bedingung `counter < 5` wahr ist. In jedem Durchlauf der Schleife wird der aktuelle Wert von `counter` mit einer `print`-Anweisung ausgegeben."
   ]
  },
  {
   "attachments": {},
   "cell_type": "markdown",
   "id": "f3370fc7",
   "metadata": {},
   "source": [
    "# Aufgabe BMI berechnen\n",
    "Das Ziel der Aufgabe ist es, dass der User gefragt wird:  \n",
    "Wie viel wiegen Sie in kg?  \n",
    "> *50*\n",
    "\n",
    "Wie groß sind Sie in Metern?  \n",
    "> *1.60*\n",
    "\n",
    "Ihr BMI beträgt: *`19.53`* Sie sind *`Gesund`*"
   ]
  },
  {
   "cell_type": "code",
   "execution_count": 38,
   "id": "597c41d2",
   "metadata": {},
   "outputs": [
    {
     "name": "stdout",
     "output_type": "stream",
     "text": [
      "Ihr BMI beträgt: 19.53 Sie sind Gesund\n"
     ]
    }
   ],
   "source": [
    "# Quiz zur Berechnung des BMI\n",
    "\n",
    "# Schritt 1: Gewicht eingeben\n",
    "weight = float(input(\"Wie viel wiegen Sie in kg? \"))\n",
    "\n",
    "# Schritt 2: Größe eingeben\n",
    "height = float(input(\"Wie groß sind Sie in Metern? \"))\n",
    "\n",
    "# Schritt 3: Berechne den BMI\n",
    "bmi = weight / (height**2) \n",
    "bmi = round (bmi, 2)\n",
    "# Schritt 4: Überprüfen Sie den Gewichtsstatus\n",
    "if bmi <= 18.5:\n",
    "    status = \"Untergewicht\"\n",
    "elif bmi <= 24.9:\n",
    "    status = \"Gesund\"\n",
    "else:\n",
    "    status = \"Übergewicht\"\n",
    "\n",
    "# Schritt 5: Ausgabe des BMI und Gewichtsstatus\n",
    "print(\"Ihr BMI beträgt:\",bmi, \"Sie sind\", status)\n",
    "\n"
   ]
  },
  {
   "cell_type": "code",
   "execution_count": 28,
   "id": "b9207e3e",
   "metadata": {},
   "outputs": [
    {
     "name": "stdout",
     "output_type": "stream",
     "text": [
      "25\n"
     ]
    }
   ],
   "source": [
    "x = 5\n",
    "x = x**2\n",
    "print (x)\n",
    "\n"
   ]
  }
 ],
 "metadata": {
  "kernelspec": {
   "display_name": "Python 3 (ipykernel)",
   "language": "python",
   "name": "python3"
  },
  "language_info": {
   "codemirror_mode": {
    "name": "ipython",
    "version": 3
   },
   "file_extension": ".py",
   "mimetype": "text/x-python",
   "name": "python",
   "nbconvert_exporter": "python",
   "pygments_lexer": "ipython3",
   "version": "3.10.4"
  }
 },
 "nbformat": 4,
 "nbformat_minor": 5
}
